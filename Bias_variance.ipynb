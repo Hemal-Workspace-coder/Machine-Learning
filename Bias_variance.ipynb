{
 "cells": [
  {
   "cell_type": "code",
   "execution_count": null,
   "id": "86d7fa26-f735-40c5-ba8c-7e0dd3af2993",
   "metadata": {},
   "outputs": [],
   "source": [
    "# Bias Variance On the Iris Dataset\n",
    "\n",
    "# Import the necessary libraries\n",
    "import numpy as np\n",
    "import pandas as pd\n",
    "from sklearn.datasets import load_iris\n",
    "from sklearn.model_selection import train_test_split\n",
    "from sklearn.tree import DecisionTreeClassifier\n",
    "from sklearn.ensemble import BaggingClassifier\n",
    "from mlxtend.evaluate import bias_variance_decomp\n",
    "import warnings\n",
    "warnings.filterwarnings('ignore')"
   ]
  },
  {
   "cell_type": "code",
   "execution_count": null,
   "id": "107013d3-0ec3-4715-9313-c676bb26b79a",
   "metadata": {},
   "outputs": [],
   "source": [
    "# Load the dataset\n",
    "X, y = load_iris(return_X_y=True)"
   ]
  },
  {
   "cell_type": "code",
   "execution_count": null,
   "id": "3ff7fabb-3b9d-4053-9bec-2cb6848adb57",
   "metadata": {},
   "outputs": [],
   "source": [
    "# Split train and test dataset\n",
    "X_train, X_test, y_train, y_test = train_test_split(X, y, test_size=0.25, random_state=23, shuffle=True, stratify=y)"
   ]
  },
  {
   "cell_type": "code",
   "execution_count": null,
   "id": "73d545d2-0c34-4f27-a34b-67c685dbbb76",
   "metadata": {},
   "outputs": [],
   "source": [
    "# Build the classification model\n",
    "tree = DecisionTreeClassifier(random_state=123)\n",
    "clf = BaggingClassifier(estimator=tree, n_estimators=50, random_state=23)"
   ]
  },
  {
   "cell_type": "code",
   "execution_count": null,
   "id": "06b7fd0c-fb6c-4a94-b894-dc0a522f3a28",
   "metadata": {},
   "outputs": [],
   "source": [
    "# Bias variance decompositions\n",
    "avg_expected_loss, avg_bias, avg_var = bias_variance_decomp(clf, X_train, y_train, X_test, y_test, loss='0-1_loss', random_seed=23)"
   ]
  },
  {
   "cell_type": "code",
   "execution_count": null,
   "id": "7e167bf6-7d3c-41fb-9130-2f4b3949aadd",
   "metadata": {},
   "outputs": [
    {
     "name": "stdout",
     "output_type": "stream",
     "text": [
      "Average expected loss: 0.06\n",
      "Average bias: 0.05\n",
      "Average variance: 0.02\n"
     ]
    }
   ],
   "source": [
    "# Print the value\n",
    "print('Average expected loss: %.2f' % avg_expected_loss)\n",
    "print('Average bias: %.2f' % avg_bias)\n",
    "print('Average variance: %.2f' % avg_var)"
   ]
  }
 ],
 "metadata": {
  "kernelspec": {
   "display_name": "Python (base)",
   "language": "python",
   "name": "base"
  },
  "language_info": {
   "codemirror_mode": {
    "name": "ipython",
    "version": 3
   },
   "file_extension": ".py",
   "mimetype": "text/x-python",
   "name": "python",
   "nbconvert_exporter": "python",
   "pygments_lexer": "ipython3",
   "version": "3.12.7"
  }
 },
 "nbformat": 4,
 "nbformat_minor": 5
}
